{
 "cells": [
  {
   "cell_type": "markdown",
   "metadata": {},
   "source": [
    "### Delete Existing Resources"
   ]
  },
  {
   "cell_type": "code",
   "execution_count": 1,
   "metadata": {},
   "outputs": [
    {
     "name": "stdout",
     "output_type": "stream",
     "text": [
      "ERROR:root:Cluster 'dwhCluster' does not exist.\n",
      "ERROR:root:Another error occurred: CusterProps must not be None. Skipping Ingress revocation.\n",
      "ERROR:root:Cluster 'dwhCluster' does not exist. Skipping cluster deletion.\n",
      "ERROR:root:IAM role 'dwhRole' does not exist. Skipping IAM role deletion.\n",
      "CPU times: user 8.95 ms, sys: 11 ms, total: 20 ms\n",
      "Wall time: 1.62 s\n"
     ]
    }
   ],
   "source": [
    "%%time\n",
    "!python scripts/delete_resources.py"
   ]
  },
  {
   "cell_type": "markdown",
   "metadata": {},
   "source": [
    "### Create Required Resources\n",
    "This includes the IAM role, RedShift cluster, and ingress rules."
   ]
  },
  {
   "cell_type": "code",
   "execution_count": 2,
   "metadata": {},
   "outputs": [
    {
     "name": "stdout",
     "output_type": "stream",
     "text": [
      "INFO:root:IAM Role Created: ARN arn:aws:iam::736720720705:role/dwhRole\n",
      "INFO:root:Cluster is creating...2.384185791015625e-07 seconds elapsed.\n",
      "INFO:root:Cluster is creating...10.238889217376709 seconds elapsed.\n",
      "INFO:root:Cluster is creating...20.997263431549072 seconds elapsed.\n",
      "INFO:root:Cluster is creating...31.69753861427307 seconds elapsed.\n",
      "INFO:root:Cluster is creating...42.36496829986572 seconds elapsed.\n",
      "INFO:root:Cluster is creating...53.10138392448425 seconds elapsed.\n",
      "INFO:root:Cluster is creating...63.818397998809814 seconds elapsed.\n",
      "INFO:root:Cluster is creating...74.51712822914124 seconds elapsed.\n",
      "CPU times: user 671 ms, sys: 239 ms, total: 911 ms\n",
      "Wall time: 1min 29s\n"
     ]
    }
   ],
   "source": [
    "%%time\n",
    "!python scripts/create_resources.py"
   ]
  },
  {
   "cell_type": "markdown",
   "metadata": {},
   "source": [
    "### Create Tables\n",
    "Staging tables will first be created, followed by fact and dimension tables."
   ]
  },
  {
   "cell_type": "code",
   "execution_count": 5,
   "metadata": {},
   "outputs": [
    {
     "name": "stdout",
     "output_type": "stream",
     "text": [
      "CPU times: user 45 ms, sys: 24.5 ms, total: 69.6 ms\n",
      "Wall time: 6.27 s\n"
     ]
    }
   ],
   "source": [
    "%%time\n",
    "!python scripts/create_tables.py"
   ]
  },
  {
   "cell_type": "markdown",
   "metadata": {},
   "source": [
    "**ERD**\n",
    "\n",
    "Outlined below is the entity relationship diagram for the generated tables:\n",
    "\n",
    "![erd](images/erd.png)\n",
    "\n",
    "The fact and dimension tables are arranged in a star schema, while the staging tables are isolated."
   ]
  },
  {
   "cell_type": "markdown",
   "metadata": {},
   "source": [
    "### ELT\n",
    "Data is loaded from S3 into the staging tables, and the data is then transformed into the star schema."
   ]
  },
  {
   "cell_type": "code",
   "execution_count": 7,
   "metadata": {},
   "outputs": [
    {
     "name": "stdout",
     "output_type": "stream",
     "text": [
      "INFO:root:Loading staging data.\n",
      "INFO:root:Staging tables loaded.\n",
      "CPU times: user 37.9 s, sys: 12.3 s, total: 50.2 s\n",
      "Wall time: 1h 54min 11s\n"
     ]
    }
   ],
   "source": [
    "%%time\n",
    "!python scripts/etl.py load"
   ]
  },
  {
   "cell_type": "code",
   "execution_count": 9,
   "metadata": {},
   "outputs": [
    {
     "name": "stdout",
     "output_type": "stream",
     "text": [
      "INFO:root:Performing ETL.\n",
      "INFO:root:ETL completed.\n",
      "CPU times: user 37.6 ms, sys: 20.1 ms, total: 57.6 ms\n",
      "Wall time: 5.45 s\n"
     ]
    }
   ],
   "source": [
    "%%time\n",
    "!python scripts/etl.py etl"
   ]
  },
  {
   "cell_type": "markdown",
   "metadata": {},
   "source": [
    "### Sample Queries\n",
    "Simple queries are run to gather information about the database, as well as simple analytics insights."
   ]
  },
  {
   "cell_type": "code",
   "execution_count": 12,
   "metadata": {},
   "outputs": [],
   "source": [
    "import psycopg2\n",
    "import pandas as pd\n",
    "from scripts.helpers import LoadConfig"
   ]
  },
  {
   "cell_type": "code",
   "execution_count": 13,
   "metadata": {},
   "outputs": [],
   "source": [
    "# Load pararameters from dwh.cfg\n",
    "config = LoadConfig(autoload=True)\n",
    "\n",
    "# Update connection_params with your actual configuration\n",
    "connection_params = {\n",
    "    \"dbname\": config.get(\"CLUSTER\", \"DB_NAME\"),\n",
    "    \"user\": config.get(\"CLUSTER\", \"DB_USER\"),\n",
    "    \"password\": config.get(\"CLUSTER\", \"DB_PASSWORD\"),\n",
    "    \"host\": config.get(\"CLUSTER\", \"HOST\"),\n",
    "    \"port\": config.get(\"CLUSTER\", \"DB_PORT\")\n",
    "}\n",
    "\n",
    "# Function to execute query and fetch results into a pandas dataframe\n",
    "def execute_query(query, connection_params):\n",
    "    \"\"\"\n",
    "    Executes a query using psycopg2.\n",
    "\n",
    "    Parameters:\n",
    "    - query (str): Query string.\n",
    "    - conn: psycopg2 connection object.\n",
    "\n",
    "    Returns:\n",
    "    - DataFrame: pandas DataFrame continaing query results.\n",
    "    \"\"\"\n",
    "    with psycopg2.connect(**connection_params) as conn:\n",
    "        with conn.cursor() as cursor:\n",
    "            cursor.execute(query)\n",
    "            columns = [desc[0] for desc in cursor.description]\n",
    "            data = cursor.fetchall()\n",
    "    return pd.DataFrame(data, columns=columns)\n"
   ]
  },
  {
   "cell_type": "markdown",
   "metadata": {},
   "source": [
    "**Table Row Counts**\n",
    "\n",
    "A simple query which counts the number of rows of each table, and orders the results in descending order."
   ]
  },
  {
   "cell_type": "code",
   "execution_count": 17,
   "metadata": {},
   "outputs": [
    {
     "data": {
      "text/html": [
       "<div>\n",
       "<style scoped>\n",
       "    .dataframe tbody tr th:only-of-type {\n",
       "        vertical-align: middle;\n",
       "    }\n",
       "\n",
       "    .dataframe tbody tr th {\n",
       "        vertical-align: top;\n",
       "    }\n",
       "\n",
       "    .dataframe thead th {\n",
       "        text-align: right;\n",
       "    }\n",
       "</style>\n",
       "<table border=\"1\" class=\"dataframe\">\n",
       "  <thead>\n",
       "    <tr style=\"text-align: right;\">\n",
       "      <th></th>\n",
       "      <th>table_name</th>\n",
       "      <th>row_count</th>\n",
       "    </tr>\n",
       "  </thead>\n",
       "  <tbody>\n",
       "    <tr>\n",
       "      <th>0</th>\n",
       "      <td>staging_songs</td>\n",
       "      <td>385252</td>\n",
       "    </tr>\n",
       "    <tr>\n",
       "      <th>1</th>\n",
       "      <td>d_song</td>\n",
       "      <td>384995</td>\n",
       "    </tr>\n",
       "    <tr>\n",
       "      <th>2</th>\n",
       "      <td>d_artist</td>\n",
       "      <td>45266</td>\n",
       "    </tr>\n",
       "    <tr>\n",
       "      <th>3</th>\n",
       "      <td>staging_events</td>\n",
       "      <td>8056</td>\n",
       "    </tr>\n",
       "    <tr>\n",
       "      <th>4</th>\n",
       "      <td>f_songplay</td>\n",
       "      <td>6964</td>\n",
       "    </tr>\n",
       "    <tr>\n",
       "      <th>5</th>\n",
       "      <td>d_time</td>\n",
       "      <td>6487</td>\n",
       "    </tr>\n",
       "    <tr>\n",
       "      <th>6</th>\n",
       "      <td>d_user</td>\n",
       "      <td>105</td>\n",
       "    </tr>\n",
       "  </tbody>\n",
       "</table>\n",
       "</div>"
      ],
      "text/plain": [
       "       table_name  row_count\n",
       "0   staging_songs     385252\n",
       "1          d_song     384995\n",
       "2        d_artist      45266\n",
       "3  staging_events       8056\n",
       "4      f_songplay       6964\n",
       "5          d_time       6487\n",
       "6          d_user        105"
      ]
     },
     "execution_count": 17,
     "metadata": {},
     "output_type": "execute_result"
    }
   ],
   "source": [
    "# Table row counts\n",
    "query = \"\"\" \n",
    "select 'staging_events' as table_name, count(*) as row_count from staging_events\n",
    "union select 'staging_songs' as table_name, count(*) as row_count from staging_songs\n",
    "union select 'f_songplay' as table_name, count(*) as row_count from f_songplay\n",
    "union select 'd_artist' as table_name, count(*) as row_count from d_artist\n",
    "union select 'd_song' as table_name, count(*) as row_count from d_song\n",
    "union select 'd_user' as table_name, count(*) as row_count from d_user\n",
    "union select 'd_time' as table_name, count(*) as row_count from d_time\n",
    "order by 2 desc;\n",
    "\"\"\"\n",
    "\n",
    "execute_query(query, connection_params)"
   ]
  },
  {
   "cell_type": "markdown",
   "metadata": {},
   "source": [
    "**Top Played Artists**\n",
    "\n",
    "- Results indicate that Coldplay is the most played artist of all time (as far as the songplay data goes).\n",
    "- Aggregations are performed quickly, even though aggregating over all the data.\n",
    "- Caching is a potential factor here however, as the subquery was run and tested separately."
   ]
  },
  {
   "cell_type": "code",
   "execution_count": 18,
   "metadata": {},
   "outputs": [
    {
     "data": {
      "text/html": [
       "<div>\n",
       "<style scoped>\n",
       "    .dataframe tbody tr th:only-of-type {\n",
       "        vertical-align: middle;\n",
       "    }\n",
       "\n",
       "    .dataframe tbody tr th {\n",
       "        vertical-align: top;\n",
       "    }\n",
       "\n",
       "    .dataframe thead th {\n",
       "        text-align: right;\n",
       "    }\n",
       "</style>\n",
       "<table border=\"1\" class=\"dataframe\">\n",
       "  <thead>\n",
       "    <tr style=\"text-align: right;\">\n",
       "      <th></th>\n",
       "      <th>name</th>\n",
       "      <th>song_play_count</th>\n",
       "    </tr>\n",
       "  </thead>\n",
       "  <tbody>\n",
       "    <tr>\n",
       "      <th>0</th>\n",
       "      <td>Coldplay</td>\n",
       "      <td>58</td>\n",
       "    </tr>\n",
       "    <tr>\n",
       "      <th>1</th>\n",
       "      <td>Killers</td>\n",
       "      <td>57</td>\n",
       "    </tr>\n",
       "    <tr>\n",
       "      <th>2</th>\n",
       "      <td>Kings Of Leon</td>\n",
       "      <td>56</td>\n",
       "    </tr>\n",
       "    <tr>\n",
       "      <th>3</th>\n",
       "      <td>3 Drives On A Vinyl</td>\n",
       "      <td>55</td>\n",
       "    </tr>\n",
       "    <tr>\n",
       "      <th>4</th>\n",
       "      <td>John Mayer</td>\n",
       "      <td>47</td>\n",
       "    </tr>\n",
       "    <tr>\n",
       "      <th>5</th>\n",
       "      <td>Big Tuck : DJ Smallz</td>\n",
       "      <td>42</td>\n",
       "    </tr>\n",
       "    <tr>\n",
       "      <th>6</th>\n",
       "      <td>Ace Karaoke Productions</td>\n",
       "      <td>41</td>\n",
       "    </tr>\n",
       "    <tr>\n",
       "      <th>7</th>\n",
       "      <td>Kanye West</td>\n",
       "      <td>41</td>\n",
       "    </tr>\n",
       "    <tr>\n",
       "      <th>8</th>\n",
       "      <td>Jack Johnson</td>\n",
       "      <td>38</td>\n",
       "    </tr>\n",
       "    <tr>\n",
       "      <th>9</th>\n",
       "      <td>Dwight Yoakam</td>\n",
       "      <td>38</td>\n",
       "    </tr>\n",
       "  </tbody>\n",
       "</table>\n",
       "</div>"
      ],
      "text/plain": [
       "                      name  song_play_count\n",
       "0                 Coldplay               58\n",
       "1                  Killers               57\n",
       "2            Kings Of Leon               56\n",
       "3      3 Drives On A Vinyl               55\n",
       "4               John Mayer               47\n",
       "5     Big Tuck : DJ Smallz               42\n",
       "6  Ace Karaoke Productions               41\n",
       "7               Kanye West               41\n",
       "8             Jack Johnson               38\n",
       "9            Dwight Yoakam               38"
      ]
     },
     "execution_count": 18,
     "metadata": {},
     "output_type": "execute_result"
    }
   ],
   "source": [
    "# Top played artists\n",
    "# Note: we perform a subquery to return a single artist per artist_id\n",
    "# There is a one-to-many relationship on the artist_id and name columns\n",
    "# e.g. ABCD -> Some Artist; ABCD -> Some Artist; Some Backing Artist\n",
    "query = \"\"\"\n",
    "select \n",
    "\tda.name,\n",
    "\tcount(fs.song_id) as song_play_count\n",
    "from f_songplay fs\n",
    "join (\n",
    "\tselect\n",
    "\t\tartist_id,\n",
    "\t\tname,\n",
    "\t\trow_number() over (partition by artist_id order by name) as row_number\n",
    "\tfrom d_artist\n",
    ") da on da.artist_id = fs.artist_id and da.row_number = 1\n",
    "group by da.name\n",
    "order by 2 desc\n",
    "limit 10;\n",
    "\"\"\"\n",
    "\n",
    "execute_query(query, connection_params)"
   ]
  },
  {
   "cell_type": "markdown",
   "metadata": {},
   "source": [
    "**Songs by Greatest Listen Time**\n",
    "\n",
    "- Results indicate that Greece 2000 is the most played song by listen time.\n",
    "- Query takes a bit longer than the previous query, again assumed to be due to differences in caching activities.\n",
    "- Overall, given that aggregations are performed over all songplay data, the query is still quick to run in approximately 15 seconds."
   ]
  },
  {
   "cell_type": "code",
   "execution_count": 19,
   "metadata": {},
   "outputs": [
    {
     "data": {
      "text/html": [
       "<div>\n",
       "<style scoped>\n",
       "    .dataframe tbody tr th:only-of-type {\n",
       "        vertical-align: middle;\n",
       "    }\n",
       "\n",
       "    .dataframe tbody tr th {\n",
       "        vertical-align: top;\n",
       "    }\n",
       "\n",
       "    .dataframe thead th {\n",
       "        text-align: right;\n",
       "    }\n",
       "</style>\n",
       "<table border=\"1\" class=\"dataframe\">\n",
       "  <thead>\n",
       "    <tr style=\"text-align: right;\">\n",
       "      <th></th>\n",
       "      <th>song_title</th>\n",
       "      <th>artist_name</th>\n",
       "      <th>song_play_time</th>\n",
       "    </tr>\n",
       "  </thead>\n",
       "  <tbody>\n",
       "    <tr>\n",
       "      <th>0</th>\n",
       "      <td>Greece 2000</td>\n",
       "      <td>3 Drives On A Vinyl</td>\n",
       "      <td>24762.88120</td>\n",
       "    </tr>\n",
       "    <tr>\n",
       "      <th>1</th>\n",
       "      <td>Sehr kosmisch</td>\n",
       "      <td>Harmonia</td>\n",
       "      <td>13771.32771</td>\n",
       "    </tr>\n",
       "    <tr>\n",
       "      <th>2</th>\n",
       "      <td>You're The One</td>\n",
       "      <td>Dwight Yoakam</td>\n",
       "      <td>8854.37010</td>\n",
       "    </tr>\n",
       "    <tr>\n",
       "      <th>3</th>\n",
       "      <td>Stronger</td>\n",
       "      <td>Kanye West</td>\n",
       "      <td>8737.26728</td>\n",
       "    </tr>\n",
       "    <tr>\n",
       "      <th>4</th>\n",
       "      <td>What Goes Around...Comes Around</td>\n",
       "      <td>Justin Timberlake</td>\n",
       "      <td>6554.84754</td>\n",
       "    </tr>\n",
       "    <tr>\n",
       "      <th>5</th>\n",
       "      <td>Yellow</td>\n",
       "      <td>Coldplay</td>\n",
       "      <td>6440.21772</td>\n",
       "    </tr>\n",
       "    <tr>\n",
       "      <th>6</th>\n",
       "      <td>Revelry</td>\n",
       "      <td>Kings Of Leon</td>\n",
       "      <td>5448.47742</td>\n",
       "    </tr>\n",
       "    <tr>\n",
       "      <th>7</th>\n",
       "      <td>Bring Me To Life</td>\n",
       "      <td>Evanescence</td>\n",
       "      <td>5299.00763</td>\n",
       "    </tr>\n",
       "    <tr>\n",
       "      <th>8</th>\n",
       "      <td>Horn Concerto No. 4 in E flat K495: II. Romanc...</td>\n",
       "      <td>Barry Tuckwell/Academy of St Martin-in-the-Fie...</td>\n",
       "      <td>5266.01587</td>\n",
       "    </tr>\n",
       "    <tr>\n",
       "      <th>9</th>\n",
       "      <td>Just Dance</td>\n",
       "      <td>Lady GaGa</td>\n",
       "      <td>5222.52380</td>\n",
       "    </tr>\n",
       "  </tbody>\n",
       "</table>\n",
       "</div>"
      ],
      "text/plain": [
       "                                          song_title  \\\n",
       "0                                        Greece 2000   \n",
       "1                                      Sehr kosmisch   \n",
       "2                                     You're The One   \n",
       "3                                           Stronger   \n",
       "4                    What Goes Around...Comes Around   \n",
       "5                                             Yellow   \n",
       "6                                            Revelry   \n",
       "7                                   Bring Me To Life   \n",
       "8  Horn Concerto No. 4 in E flat K495: II. Romanc...   \n",
       "9                                         Just Dance   \n",
       "\n",
       "                                         artist_name  song_play_time  \n",
       "0                                3 Drives On A Vinyl     24762.88120  \n",
       "1                                           Harmonia     13771.32771  \n",
       "2                                      Dwight Yoakam      8854.37010  \n",
       "3                                         Kanye West      8737.26728  \n",
       "4                                  Justin Timberlake      6554.84754  \n",
       "5                                           Coldplay      6440.21772  \n",
       "6                                      Kings Of Leon      5448.47742  \n",
       "7                                        Evanescence      5299.00763  \n",
       "8  Barry Tuckwell/Academy of St Martin-in-the-Fie...      5266.01587  \n",
       "9                                          Lady GaGa      5222.52380  "
      ]
     },
     "execution_count": 19,
     "metadata": {},
     "output_type": "execute_result"
    }
   ],
   "source": [
    "# Top played songs by listen time\n",
    "# We perform a similar window function on the d_artist table here\n",
    "query = \"\"\"\n",
    "select\n",
    "\tds.title as song_title,\n",
    "\tda.name as artist_name,\n",
    "\tsum(ds.duration) as song_play_time\n",
    "from f_songplay fs\n",
    "join d_song ds on ds.song_id = fs.song_id\n",
    "join (\n",
    "\tselect\n",
    "\t\tartist_id,\n",
    "\t\tname,\n",
    "\t\trow_number() over (partition by artist_id order by name) as row_number\n",
    "\tfrom d_artist\n",
    ") da on da.artist_id = fs.artist_id and da.row_number = 1\n",
    "group by 1,2\n",
    "order by 3 desc\n",
    "limit 10;\n",
    "\"\"\"\n",
    "\n",
    "execute_query(query, connection_params)"
   ]
  },
  {
   "cell_type": "markdown",
   "metadata": {},
   "source": [
    "### Cleanup\n",
    "\n",
    "Now that we have confirmed that the scripts run, and queries can be executed in a timely manner, the resources will now be deleted. This will prevent excessing costs."
   ]
  },
  {
   "cell_type": "code",
   "execution_count": 20,
   "metadata": {},
   "outputs": [
    {
     "name": "stdout",
     "output_type": "stream",
     "text": [
      "CPU times: user 625 ms, sys: 122 ms, total: 747 ms\n",
      "Wall time: 1min 19s\n"
     ]
    }
   ],
   "source": [
    "%%time\n",
    "!python scripts/delete_resources.py"
   ]
  }
 ],
 "metadata": {
  "kernelspec": {
   "display_name": "Python 3",
   "language": "python",
   "name": "python3"
  },
  "language_info": {
   "codemirror_mode": {
    "name": "ipython",
    "version": 3
   },
   "file_extension": ".py",
   "mimetype": "text/x-python",
   "name": "python",
   "nbconvert_exporter": "python",
   "pygments_lexer": "ipython3",
   "version": "3.10.13"
  }
 },
 "nbformat": 4,
 "nbformat_minor": 2
}
