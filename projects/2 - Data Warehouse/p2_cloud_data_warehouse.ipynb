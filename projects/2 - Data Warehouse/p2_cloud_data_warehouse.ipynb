{
 "cells": [
  {
   "cell_type": "markdown",
   "metadata": {},
   "source": [
    "### Delete Existing Resources"
   ]
  },
  {
   "cell_type": "code",
   "execution_count": 1,
   "metadata": {},
   "outputs": [
    {
     "name": "stdout",
     "output_type": "stream",
     "text": [
      "ERROR:root:Cluster 'dwhCluster' does not exist.\n",
      "ERROR:root:Another error occurred: CusterProps must not be None. Skipping Ingress revocation.\n",
      "ERROR:root:Cluster 'dwhCluster' does not exist. Skipping cluster deletion.\n",
      "ERROR:root:IAM role 'dwhRole' does not exist. Skipping IAM role deletion.\n",
      "CPU times: user 8.95 ms, sys: 11 ms, total: 20 ms\n",
      "Wall time: 1.62 s\n"
     ]
    }
   ],
   "source": [
    "%%time\n",
    "!python scripts/delete_resources.py"
   ]
  },
  {
   "cell_type": "markdown",
   "metadata": {},
   "source": [
    "### Create Required Resources\n",
    "This includes the IAM role, RedShift cluster, and ingress rules."
   ]
  },
  {
   "cell_type": "code",
   "execution_count": 2,
   "metadata": {},
   "outputs": [
    {
     "name": "stdout",
     "output_type": "stream",
     "text": [
      "INFO:root:IAM Role Created: ARN arn:aws:iam::736720720705:role/dwhRole\n",
      "INFO:root:Cluster is creating...2.384185791015625e-07 seconds elapsed.\n",
      "INFO:root:Cluster is creating...10.238889217376709 seconds elapsed.\n",
      "INFO:root:Cluster is creating...20.997263431549072 seconds elapsed.\n",
      "INFO:root:Cluster is creating...31.69753861427307 seconds elapsed.\n",
      "INFO:root:Cluster is creating...42.36496829986572 seconds elapsed.\n",
      "INFO:root:Cluster is creating...53.10138392448425 seconds elapsed.\n",
      "INFO:root:Cluster is creating...63.818397998809814 seconds elapsed.\n",
      "INFO:root:Cluster is creating...74.51712822914124 seconds elapsed.\n",
      "CPU times: user 671 ms, sys: 239 ms, total: 911 ms\n",
      "Wall time: 1min 29s\n"
     ]
    }
   ],
   "source": [
    "%%time\n",
    "!python scripts/create_resources.py"
   ]
  },
  {
   "cell_type": "markdown",
   "metadata": {},
   "source": [
    "### Create Tables\n",
    "Staging tables will first be created, followed by fact and dimension tables."
   ]
  },
  {
   "cell_type": "code",
   "execution_count": 5,
   "metadata": {},
   "outputs": [
    {
     "name": "stdout",
     "output_type": "stream",
     "text": [
      "CPU times: user 45 ms, sys: 24.5 ms, total: 69.6 ms\n",
      "Wall time: 6.27 s\n"
     ]
    }
   ],
   "source": [
    "%%time\n",
    "!python scripts/create_tables.py"
   ]
  },
  {
   "cell_type": "markdown",
   "metadata": {},
   "source": [
    "**ERD**\n",
    "\n",
    "Outlined below is the entity relationship diagram for the generated tables:\n",
    "\n",
    "![erd](images/erd.png)\n",
    "\n",
    "The fact and dimension tables are arranged in a star schema, while the staging tables are isolated."
   ]
  },
  {
   "cell_type": "markdown",
   "metadata": {},
   "source": [
    "### ELT\n",
    "Data is loaded from S3 into the staging tables, and the data is then transformed into the star schema."
   ]
  },
  {
   "cell_type": "code",
   "execution_count": 7,
   "metadata": {},
   "outputs": [
    {
     "name": "stdout",
     "output_type": "stream",
     "text": [
      "INFO:root:Loading staging data.\n",
      "INFO:root:Staging tables loaded.\n",
      "CPU times: user 37.9 s, sys: 12.3 s, total: 50.2 s\n",
      "Wall time: 1h 54min 11s\n"
     ]
    }
   ],
   "source": [
    "%%time\n",
    "!python scripts/etl.py load"
   ]
  },
  {
   "cell_type": "code",
   "execution_count": 9,
   "metadata": {},
   "outputs": [
    {
     "name": "stdout",
     "output_type": "stream",
     "text": [
      "INFO:root:Performing ETL.\n",
      "INFO:root:ETL completed.\n",
      "CPU times: user 37.6 ms, sys: 20.1 ms, total: 57.6 ms\n",
      "Wall time: 5.45 s\n"
     ]
    }
   ],
   "source": [
    "%%time\n",
    "!python scripts/etl.py etl"
   ]
  },
  {
   "cell_type": "markdown",
   "metadata": {},
   "source": [
    "### Sample Queries\n",
    "Simple queries are run to gather information about the database, as well as simple analytics insights."
   ]
  },
  {
   "cell_type": "code",
   "execution_count": 8,
   "metadata": {},
   "outputs": [],
   "source": [
    "import psycopg2\n",
    "from scripts.helpers import LoadConfig"
   ]
  },
  {
   "cell_type": "code",
   "execution_count": 10,
   "metadata": {},
   "outputs": [],
   "source": [
    "# Load pararameters from dwh.cfg\n",
    "config = LoadConfig(autoload=True)\n",
    "\n",
    "conn = psycopg2.connect(\n",
    "    dbname=config.get(\"CLUSTER\", \"DB_NAME\"),\n",
    "    user=config.get(\"CLUSTER\", \"DB_USER\"),\n",
    "    password=config.get(\"CLUSTER\", \"DB_PASSWORD\"),\n",
    "    host=config.get(\"CLUSTER\", \"HOST\"),\n",
    "    port=config.get(\"CLUSTER\", \"DB_PORT\")\n",
    ")\n",
    "cur = conn.cursor()"
   ]
  },
  {
   "cell_type": "code",
   "execution_count": 11,
   "metadata": {},
   "outputs": [],
   "source": [
    "# Table row counts\n",
    "query = \"\"\" \n",
    "select 'staging_events' as table_name, count(*) as row_count from staging_events\n",
    "union select 'staging_songs' as table_name, count(*) as row_count from staging_songs\n",
    "union select 'f_songplay' as table_name, count(*) as row_count from f_songplay\n",
    "union select 'd_artist' as table_name, count(*) as row_count from d_artist\n",
    "union select 'd_song' as table_name, count(*) as row_count from d_song\n",
    "union select 'd_user' as table_name, count(*) as row_count from d_user\n",
    "union select 'd_time' as table_name, count(*) as row_count from d_time\n",
    "order by 2 desc;\n",
    "\"\"\"\n",
    "cur.execute(query)\n",
    "\n",
    "# Top played artists\n",
    "# Note: we perform a subquery to return a single artist per artist_id\n",
    "# There is a one-to-many relationship on the artist_id and name columns\n",
    "# e.g. ABCD -> Some Artist; ABCD -> Some Artist; Some Backing Artist\n",
    "query = \"\"\"\n",
    "select \n",
    "\tda.name,\n",
    "\tcount(fs.song_id) as song_play_count\n",
    "from f_songplay fs\n",
    "join (\n",
    "\tselect\n",
    "\t\tartist_id,\n",
    "\t\tname,\n",
    "\t\trow_number() over (partition by artist_id order by name) as row_number\n",
    "\tfrom d_artist\n",
    ") da on da.artist_id = fs.artist_id and da.row_number = 1\n",
    "group by da.name\n",
    "order by 2 desc\n",
    "limit 10;\n",
    "\"\"\"\n",
    "\n",
    "# Top played songs by listen time\n",
    "# We perform a similar window function on the d_artist table here\n",
    "query = \"\"\"\n",
    "select\n",
    "\tds.title as song_title,\n",
    "\tda.name as artist_name,\n",
    "\tsum(ds.duration) as song_play_time\n",
    "from f_songplay fs\n",
    "join d_song ds on ds.song_id = fs.song_id\n",
    "join (\n",
    "\tselect\n",
    "\t\tartist_id,\n",
    "\t\tname,\n",
    "\t\trow_number() over (partition by artist_id order by name) as row_number\n",
    "\tfrom d_artist\n",
    ") da on da.artist_id = fs.artist_id and da.row_number = 1\n",
    "group by 1,2\n",
    "order by 3 desc\n",
    "limit 10;\n",
    "\"\"\""
   ]
  },
  {
   "cell_type": "markdown",
   "metadata": {},
   "source": [
    "|song_title|artist_name|song_play_time|\n",
    "|----------|-----------|--------------|\n",
    "|Greece 2000|3 Drives On A Vinyl|24762.881199999996|\n",
    "|Sehr kosmisch|Harmonia|13771.32771|\n",
    "|You're The One|Dwight Yoakam|8854.370100000007|\n",
    "|Stronger|Kanye West|8737.26728|\n",
    "|What Goes Around...Comes Around|Justin Timberlake|6554.84754|\n",
    "|Yellow|Coldplay|6440.217719999998|\n",
    "|Revelry|Kings Of Leon|5448.47742|\n",
    "|Bring Me To Life|Evanescence|5299.00763|\n",
    "|Horn Concerto No. 4 in E flat K495: II. Romance (Andante cantabile)|Barry Tuckwell/Academy of St Martin-in-the-Fields/Sir Neville Marriner|5266.015870000001|\n",
    "|Just Dance|Lady GaGa|5222.523800000001|\n"
   ]
  }
 ],
 "metadata": {
  "kernelspec": {
   "display_name": "Python 3",
   "language": "python",
   "name": "python3"
  },
  "language_info": {
   "codemirror_mode": {
    "name": "ipython",
    "version": 3
   },
   "file_extension": ".py",
   "mimetype": "text/x-python",
   "name": "python",
   "nbconvert_exporter": "python",
   "pygments_lexer": "ipython3",
   "version": "3.10.13"
  }
 },
 "nbformat": 4,
 "nbformat_minor": 2
}
