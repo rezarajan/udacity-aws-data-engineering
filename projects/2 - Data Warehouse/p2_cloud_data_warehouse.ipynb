{
 "cells": [
  {
   "cell_type": "markdown",
   "metadata": {},
   "source": [
    "### Delete Existing Resources"
   ]
  },
  {
   "cell_type": "code",
   "execution_count": 1,
   "metadata": {},
   "outputs": [
    {
     "name": "stdout",
     "output_type": "stream",
     "text": [
      "ERROR:root:Cluster 'dwhCluster' does not exist.\n",
      "ERROR:root:Another error occurred: CusterProps must not be None. Skipping Ingress revocation.\n",
      "ERROR:root:Cluster 'dwhCluster' does not exist. Skipping cluster deletion.\n",
      "ERROR:root:IAM role 'dwhRole' does not exist. Skipping IAM role deletion.\n",
      "CPU times: user 8.95 ms, sys: 11 ms, total: 20 ms\n",
      "Wall time: 1.62 s\n"
     ]
    }
   ],
   "source": [
    "%%time\n",
    "!python scripts/delete_resources.py"
   ]
  },
  {
   "cell_type": "markdown",
   "metadata": {},
   "source": [
    "### Create Required Resources\n",
    "This includes the IAM role, RedShift cluster, and ingress rules."
   ]
  },
  {
   "cell_type": "code",
   "execution_count": 2,
   "metadata": {},
   "outputs": [
    {
     "name": "stdout",
     "output_type": "stream",
     "text": [
      "INFO:root:IAM Role Created: ARN arn:aws:iam::736720720705:role/dwhRole\n",
      "INFO:root:Cluster is creating...2.384185791015625e-07 seconds elapsed.\n",
      "INFO:root:Cluster is creating...10.238889217376709 seconds elapsed.\n",
      "INFO:root:Cluster is creating...20.997263431549072 seconds elapsed.\n",
      "INFO:root:Cluster is creating...31.69753861427307 seconds elapsed.\n",
      "INFO:root:Cluster is creating...42.36496829986572 seconds elapsed.\n",
      "INFO:root:Cluster is creating...53.10138392448425 seconds elapsed.\n",
      "INFO:root:Cluster is creating...63.818397998809814 seconds elapsed.\n",
      "INFO:root:Cluster is creating...74.51712822914124 seconds elapsed.\n",
      "CPU times: user 671 ms, sys: 239 ms, total: 911 ms\n",
      "Wall time: 1min 29s\n"
     ]
    }
   ],
   "source": [
    "%%time\n",
    "!python scripts/create_resources.py"
   ]
  },
  {
   "cell_type": "markdown",
   "metadata": {},
   "source": [
    "### Create Tables\n",
    "Staging tables will first be created, followed by fact and dimension tables."
   ]
  },
  {
   "cell_type": "code",
   "execution_count": 5,
   "metadata": {},
   "outputs": [
    {
     "name": "stdout",
     "output_type": "stream",
     "text": [
      "CPU times: user 45 ms, sys: 24.5 ms, total: 69.6 ms\n",
      "Wall time: 6.27 s\n"
     ]
    }
   ],
   "source": [
    "%%time\n",
    "!python scripts/create_tables.py"
   ]
  },
  {
   "cell_type": "markdown",
   "metadata": {},
   "source": [
    "**ERD**\n",
    "\n",
    "Outlined below is the entity relationship diagram for the generated tables:\n",
    "\n",
    "![erd](images/erd.png)\n",
    "\n",
    "The fact and dimension tables are arranged in a star schema, while the staging tables are isolated."
   ]
  },
  {
   "cell_type": "markdown",
   "metadata": {},
   "source": [
    "### Load Data into the Staging Tables"
   ]
  },
  {
   "cell_type": "code",
   "execution_count": 7,
   "metadata": {},
   "outputs": [
    {
     "name": "stdout",
     "output_type": "stream",
     "text": [
      "INFO:root:Loading staging data.\n",
      "INFO:root:Staging tables loaded.\n",
      "CPU times: user 37.9 s, sys: 12.3 s, total: 50.2 s\n",
      "Wall time: 1h 54min 11s\n"
     ]
    }
   ],
   "source": [
    "%%time\n",
    "!python scripts/etl.py load"
   ]
  }
 ],
 "metadata": {
  "kernelspec": {
   "display_name": "Python 3",
   "language": "python",
   "name": "python3"
  },
  "language_info": {
   "codemirror_mode": {
    "name": "ipython",
    "version": 3
   },
   "file_extension": ".py",
   "mimetype": "text/x-python",
   "name": "python",
   "nbconvert_exporter": "python",
   "pygments_lexer": "ipython3",
   "version": "3.10.13"
  }
 },
 "nbformat": 4,
 "nbformat_minor": 2
}
